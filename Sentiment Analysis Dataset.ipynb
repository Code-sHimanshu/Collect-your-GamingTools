{
  "cells": [
    {
      "cell_type": "markdown",
      "metadata": {
        "id": "view-in-github",
        "colab_type": "text"
      },
      "source": [
        "<a href=\"https://colab.research.google.com/github/Code-sHimanshu/Collect-your-GamingTools/blob/main/Sentiment%20Analysis%20Dataset.ipynb\" target=\"_parent\"><img src=\"https://colab.research.google.com/assets/colab-badge.svg\" alt=\"Open In Colab\"/></a>"
      ]
    },
    {
      "cell_type": "markdown",
      "source": [
        "Mount the drive\n"
      ],
      "metadata": {
        "id": "Jlr2deUmzPWf"
      }
    },
    {
      "cell_type": "code",
      "source": [],
      "metadata": {
        "id": "AC1IVAPzzUEJ"
      },
      "execution_count": null,
      "outputs": []
    },
    {
      "cell_type": "markdown",
      "source": [
        "**Load all the three datasets**"
      ],
      "metadata": {
        "id": "TIHkt4_XyRLO"
      }
    },
    {
      "cell_type": "code",
      "source": [
        "import pandas as pd\n",
        "\n",
        "isear_df = pd.read_csv(\"path_to/isear.csv\")  # or isear_dataset.csv\n",
        "isear_df = isear_df[['emotion', 'sentence']]  # rename columns if necessary\n",
        "isear_df.columns = ['label', 'text']\n",
        "isear_df['source'] = 'ISEAR'\n"
      ],
      "metadata": {
        "id": "rYYZkfBsyVMm"
      },
      "execution_count": null,
      "outputs": []
    },
    {
      "cell_type": "markdown",
      "source": [
        "**Load ISEAR Dataset (Kaggle CSV)**"
      ],
      "metadata": {
        "id": "UfKbgcVvybCU"
      }
    },
    {
      "cell_type": "code",
      "source": [
        "import kagglehub\n",
        "\n",
        "# Download latest version\n",
        "path = kagglehub.dataset_download(\"faisalsanto007/isear-dataset\")\n",
        "\n",
        "print(\"Path to dataset files:\", path)"
      ],
      "metadata": {
        "id": "NOn8YI0qyfck"
      },
      "execution_count": null,
      "outputs": []
    },
    {
      "cell_type": "markdown",
      "source": [
        "**Load GoEmotions Dataset (from HuggingFace)**"
      ],
      "metadata": {
        "id": "choJYzx4ywA9"
      }
    },
    {
      "cell_type": "code",
      "source": [
        "from datasets import load_dataset\n",
        "\n",
        "goemotions = load_dataset(\"go_emotions\", split='train')  # you can load 'validation' and 'test' too\n",
        "goemotions_df = goemotions.to_pandas()\n",
        "\n",
        "# You may need to convert numeric labels to actual emotions\n",
        "from datasets import ClassLabel\n",
        "emotions = goemotions.features['labels'].feature.names\n",
        "\n",
        "# Map first label (multi-label, use first only or join them)\n",
        "goemotions_df['label'] = goemotions_df['labels'].apply(lambda x: emotions[x[0]] if len(x) > 0 else 'neutral')\n",
        "goemotions_df['text'] = goemotions_df['text']\n",
        "goemotions_df['source'] = 'GoEmotions'\n",
        "goemotions_df = goemotions_df[['label', 'text', 'source']]\n"
      ],
      "metadata": {
        "id": "7OFmuER2y2qw"
      },
      "execution_count": null,
      "outputs": []
    },
    {
      "cell_type": "markdown",
      "source": [
        "**Load Amazin Reviews Multi Datast (from HuggingFace)**"
      ],
      "metadata": {
        "id": "gm4lrermy7wT"
      }
    },
    {
      "cell_type": "code",
      "source": [
        "amazon = load_dataset(\"amazon_reviews_multi\", \"en\", split='train')  # You can load other languages\n",
        "amazon_df = amazon.to_pandas()\n",
        "\n",
        "# Convert star ratings into sentiment labels\n",
        "def convert_rating_to_sentiment(rating):\n",
        "    if rating <= 2:\n",
        "        return \"negative\"\n",
        "    elif rating == 3:\n",
        "        return \"neutral\"\n",
        "    else:\n",
        "        return \"positive\"\n",
        "\n",
        "amazon_df['label'] = amazon_df['stars'].apply(convert_rating_to_sentiment)\n",
        "amazon_df['text'] = amazon_df['review_body']\n",
        "amazon_df['source'] = 'Amazon'\n",
        "amazon_df = amazon_df[['label', 'text', 'source']]\n"
      ],
      "metadata": {
        "id": "YT-Meel8zCb1"
      },
      "execution_count": null,
      "outputs": []
    },
    {
      "cell_type": "markdown",
      "source": [
        "**Preprocess and combine the Datasets**"
      ],
      "metadata": {
        "id": "KxO5x9lNzE1R"
      }
    },
    {
      "cell_type": "code",
      "source": [
        "# Ensure all datasets have the same structure\n",
        "combined_df = pd.concat([isear_df, goemotions_df, amazon_df], ignore_index=True)\n",
        "\n",
        "# Optional: Clean text\n",
        "import re\n",
        "\n",
        "def clean_text(text):\n",
        "    text = re.sub(r\"http\\S+|www\\S+|https\\S+\", '', text, flags=re.MULTILINE)\n",
        "    text = re.sub(r'\\s+', ' ', text).strip()\n",
        "    return text\n",
        "\n",
        "combined_df['text'] = combined_df['text'].apply(clean_text)\n",
        "\n",
        "# Save to a CSV file\n",
        "combined_df.to_csv(\"combined_emotion_sentiment_dataset.csv\", index=False)\n"
      ],
      "metadata": {
        "id": "uZoBX8wszJDJ"
      },
      "execution_count": null,
      "outputs": []
    },
    {
      "cell_type": "markdown",
      "source": [],
      "metadata": {
        "id": "HLS3tZGDzKGi"
      }
    }
  ],
  "metadata": {
    "colab": {
      "name": "Welcome To Colab",
      "provenance": [],
      "include_colab_link": true
    },
    "kernelspec": {
      "display_name": "Python 3",
      "name": "python3"
    }
  },
  "nbformat": 4,
  "nbformat_minor": 0
}